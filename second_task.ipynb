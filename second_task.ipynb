{
 "cells": [
  {
   "cell_type": "markdown",
   "metadata": {},
   "source": [
    "Имеется файл с временной статистикой работы асессоров над однотипным заданием. \n",
    "\n",
    "Формат файла: login tid Microtasks assigned_ts tclosed_ts \n",
    "\n",
    "Пояснение к формату: login — логин асессора; \n",
    "                     tid — id оцениваемого задания (task id); \n",
    "                     Microtasks – количество микрозаданий в одном задании; \n",
    "                     assigned_ts — время резервирования системой задания для асессора; \n",
    "                     closed_ts — точное время завершения работы над заданием; \n",
    "                     \n",
    "                     разделитель — табуляция \\t. \n",
    "                     \n",
    "Задание может состоять из одного или несколько микрозаданий. Время резервирования задания (assigned_ts) указывает на тот момент, когда система назначила определенного асессора исполнителем этого задания. Этот момент может совпадать с временем начала работы асессора над заданием, а может и не совпадать (асессор может отойти выпить чаю, а потом приступить к заданию, асессор может выполнять предыдущее задание, в то время как за ним зарезервированы новые). \n",
    "\n",
    "Предположим, что асессор за 30 секунд своего рабочего времени получает N рублей. Какую оплату вы считаете справедливой для выполнения асессором одного микрозадания из этого файла? Опишите подробно все этапы вашего решения.\n",
    "\n",
    "для выполнения асессором одного микрозадания\n",
    "\n",
    "# Следовательно, нам не нужно давать оценку, ориентируясь на время\n",
    "\n",
    "# Нужно взять данные, отбросить лишнее, рассчитать оптимальное время выполнения 1 микротаски и выразить данное время через N\n"
   ]
  },
  {
   "cell_type": "code",
   "execution_count": 1,
   "metadata": {},
   "outputs": [],
   "source": [
    "import pandas as pd\n",
    "import numpy as np"
   ]
  },
  {
   "cell_type": "code",
   "execution_count": 2,
   "metadata": {},
   "outputs": [],
   "source": [
    "df = pd.read_csv('data_task4_old.txt', sep='\\t', index_col=0)"
   ]
  },
  {
   "cell_type": "code",
   "execution_count": 7,
   "metadata": {},
   "outputs": [
    {
     "data": {
      "text/html": [
       "<div>\n",
       "<style scoped>\n",
       "    .dataframe tbody tr th:only-of-type {\n",
       "        vertical-align: middle;\n",
       "    }\n",
       "\n",
       "    .dataframe tbody tr th {\n",
       "        vertical-align: top;\n",
       "    }\n",
       "\n",
       "    .dataframe thead th {\n",
       "        text-align: right;\n",
       "    }\n",
       "</style>\n",
       "<table border=\"1\" class=\"dataframe\">\n",
       "  <thead>\n",
       "    <tr style=\"text-align: right;\">\n",
       "      <th></th>\n",
       "      <th>tid</th>\n",
       "      <th>Microtasks</th>\n",
       "      <th>assigned_ts</th>\n",
       "      <th>closed_ts</th>\n",
       "    </tr>\n",
       "    <tr>\n",
       "      <th>login</th>\n",
       "      <th></th>\n",
       "      <th></th>\n",
       "      <th></th>\n",
       "      <th></th>\n",
       "    </tr>\n",
       "  </thead>\n",
       "  <tbody>\n",
       "    <tr>\n",
       "      <td>login0</td>\n",
       "      <td>190563850.0</td>\n",
       "      <td>4.0</td>\n",
       "      <td>2017-04-20 12:09:39</td>\n",
       "      <td>2017-04-20 13:13:01</td>\n",
       "    </tr>\n",
       "    <tr>\n",
       "      <td>login0</td>\n",
       "      <td>190561754.0</td>\n",
       "      <td>1.0</td>\n",
       "      <td>2017-04-20 12:10:30</td>\n",
       "      <td>2017-04-20 12:28:29</td>\n",
       "    </tr>\n",
       "    <tr>\n",
       "      <td>login0</td>\n",
       "      <td>190565906.0</td>\n",
       "      <td>4.0</td>\n",
       "      <td>2017-04-20 12:21:31</td>\n",
       "      <td>2017-04-20 13:30:10</td>\n",
       "    </tr>\n",
       "    <tr>\n",
       "      <td>login0</td>\n",
       "      <td>190560246.0</td>\n",
       "      <td>1.0</td>\n",
       "      <td>2017-04-20 12:28:30</td>\n",
       "      <td>2017-04-20 13:13:56</td>\n",
       "    </tr>\n",
       "    <tr>\n",
       "      <td>login0</td>\n",
       "      <td>190562168.0</td>\n",
       "      <td>2.0</td>\n",
       "      <td>2017-04-20 12:28:42</td>\n",
       "      <td>2017-04-20 13:14:50</td>\n",
       "    </tr>\n",
       "  </tbody>\n",
       "</table>\n",
       "</div>"
      ],
      "text/plain": [
       "                tid  Microtasks          assigned_ts            closed_ts\n",
       "login                                                                    \n",
       "login0  190563850.0         4.0  2017-04-20 12:09:39  2017-04-20 13:13:01\n",
       "login0  190561754.0         1.0  2017-04-20 12:10:30  2017-04-20 12:28:29\n",
       "login0  190565906.0         4.0  2017-04-20 12:21:31  2017-04-20 13:30:10\n",
       "login0  190560246.0         1.0  2017-04-20 12:28:30  2017-04-20 13:13:56\n",
       "login0  190562168.0         2.0  2017-04-20 12:28:42  2017-04-20 13:14:50"
      ]
     },
     "execution_count": 7,
     "metadata": {},
     "output_type": "execute_result"
    }
   ],
   "source": [
    "df.head(5)"
   ]
  },
  {
   "cell_type": "markdown",
   "metadata": {},
   "source": [
    "Предварительный план:\n",
    "\n",
    "1. Проверить гипотезу о том, что для каждому tid соответствует лишь одна запись о выполнении\n",
    "\n",
    "Если гипотеза не верна, то сгруппировать по tid \n",
    "Если гипотеза верна то отобрать тестовый набор данных\n",
    "\n",
    "Исходя из условий возможным вариантом решения считаю:\n",
    "1. Рассчитать время, потраченное на каждую таску, построить график, оценить полученные данные\n",
    "\n",
    "Предположительно, показатель времени, затраченного на задание, имеет нормальное распределение\n",
    "Если это так, то нам следует рассчитать порог в 3 стандартных отконения, чтобы отбросить экстремальные значения\n",
    "\n",
    "2. Рассчитать время, потраченное на каждую микротаску для каждого выполнения, построить график, оценить"
   ]
  },
  {
   "cell_type": "code",
   "execution_count": 4,
   "metadata": {},
   "outputs": [
    {
     "name": "stdout",
     "output_type": "stream",
     "text": [
      "701827\n"
     ]
    }
   ],
   "source": [
    "print(len(df))"
   ]
  },
  {
   "cell_type": "code",
   "execution_count": 8,
   "metadata": {},
   "outputs": [],
   "source": [
    "test_data = df.head(100000)"
   ]
  },
  {
   "cell_type": "code",
   "execution_count": 13,
   "metadata": {},
   "outputs": [],
   "source": [
    "test = df.groupby('tid')"
   ]
  },
  {
   "cell_type": "code",
   "execution_count": 14,
   "metadata": {},
   "outputs": [
    {
     "name": "stdout",
     "output_type": "stream",
     "text": [
      "635044\n",
      "Wall time: 8.6 s\n"
     ]
    }
   ],
   "source": [
    "%%time\n",
    "\n",
    "print(len(test))"
   ]
  },
  {
   "cell_type": "code",
   "execution_count": 15,
   "metadata": {},
   "outputs": [],
   "source": [
    "task = df.groupby('Microtasks')"
   ]
  },
  {
   "cell_type": "code",
   "execution_count": 16,
   "metadata": {},
   "outputs": [
    {
     "name": "stdout",
     "output_type": "stream",
     "text": [
      "50\n",
      "Wall time: 73 ms\n"
     ]
    }
   ],
   "source": [
    "%%time\n",
    "\n",
    "print(len(task))"
   ]
  },
  {
   "cell_type": "code",
   "execution_count": 17,
   "metadata": {},
   "outputs": [],
   "source": [
    "Microtasks = df.Microtasks.unique()"
   ]
  },
  {
   "cell_type": "code",
   "execution_count": 18,
   "metadata": {},
   "outputs": [
    {
     "name": "stdout",
     "output_type": "stream",
     "text": [
      "4.0\n",
      "1.0\n",
      "2.0\n",
      "5.0\n",
      "3.0\n",
      "9.0\n",
      "6.0\n",
      "8.0\n",
      "7.0\n",
      "11.0\n",
      "12.0\n",
      "16.0\n",
      "13.0\n",
      "10.0\n",
      "17.0\n",
      "14.0\n",
      "23.0\n",
      "26.0\n",
      "15.0\n",
      "18.0\n",
      "24.0\n",
      "20.0\n",
      "19.0\n",
      "22.0\n",
      "21.0\n",
      "31.0\n",
      "25.0\n",
      "48.0\n",
      "27.0\n",
      "35.0\n",
      "34.0\n",
      "33.0\n",
      "29.0\n",
      "28.0\n",
      "39.0\n",
      "32.0\n",
      "50.0\n",
      "43.0\n",
      "30.0\n",
      "38.0\n",
      "49.0\n",
      "40.0\n",
      "37.0\n",
      "41.0\n",
      "36.0\n",
      "42.0\n",
      "45.0\n",
      "46.0\n",
      "44.0\n",
      "47.0\n"
     ]
    }
   ],
   "source": [
    "for i in Microtasks:\n",
    "    print(i)"
   ]
  },
  {
   "cell_type": "code",
   "execution_count": null,
   "metadata": {},
   "outputs": [],
   "source": []
  }
 ],
 "metadata": {
  "kernelspec": {
   "display_name": "Python 3",
   "language": "python",
   "name": "python3"
  },
  "language_info": {
   "codemirror_mode": {
    "name": "ipython",
    "version": 3
   },
   "file_extension": ".py",
   "mimetype": "text/x-python",
   "name": "python",
   "nbconvert_exporter": "python",
   "pygments_lexer": "ipython3",
   "version": "3.7.2"
  }
 },
 "nbformat": 4,
 "nbformat_minor": 2
}

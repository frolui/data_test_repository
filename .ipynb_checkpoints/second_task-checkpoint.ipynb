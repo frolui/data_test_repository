{
 "cells": [
  {
   "cell_type": "markdown",
   "metadata": {},
   "source": [
    "Имеется файл с временной статистикой работы асессоров над однотипным заданием. \n",
    "\n",
    "Формат файла: login tid Microtasks assigned_ts tclosed_ts \n",
    "\n",
    "Пояснение к формату: login — логин асессора; \n",
    "                     tid — id оцениваемого задания (task id); \n",
    "                     Microtasks – количество микрозаданий в одном задании; \n",
    "                     assigned_ts — время резервирования системой задания для асессора; \n",
    "                     closed_ts — точное время завершения работы над заданием; \n",
    "                     \n",
    "                     разделитель — табуляция \\t. \n",
    "                     \n",
    "Задание может состоять из одного или несколько микрозаданий. Время резервирования задания (assigned_ts) указывает на тот момент, когда система назначила определенного асессора исполнителем этого задания. Этот момент может совпадать с временем начала работы асессора над заданием, а может и не совпадать (асессор может отойти выпить чаю, а потом приступить к заданию, асессор может выполнять предыдущее задание, в то время как за ним зарезервированы новые). \n",
    "\n",
    "Предположим, что асессор за 30 секунд своего рабочего времени получает N рублей. Какую оплату вы считаете справедливой для выполнения асессором одного микрозадания из этого файла? Опишите подробно все этапы вашего решения.\n",
    "\n",
    "для выполнения асессором одного микрозадания\n",
    "\n",
    "# Следовательно, нам не нужно давать оценку, ориентируясь на время\n",
    "\n",
    "# Нужно взять данные, отбросить лишнее, рассчитать оптимальное время выполнения 1 микротаски и выразить данное время через N\n"
   ]
  },
  {
   "cell_type": "code",
   "execution_count": 1,
   "metadata": {},
   "outputs": [],
   "source": [
    "import pandas as pd\n",
    "import numpy as np"
   ]
  },
  {
   "cell_type": "code",
   "execution_count": 2,
   "metadata": {},
   "outputs": [],
   "source": [
    "df = pd.read_csv('data_task4_old.txt', sep='\\t', index_col=0)"
   ]
  },
  {
   "cell_type": "code",
   "execution_count": 7,
   "metadata": {},
   "outputs": [
    {
     "data": {
      "text/html": [
       "<div>\n",
       "<style scoped>\n",
       "    .dataframe tbody tr th:only-of-type {\n",
       "        vertical-align: middle;\n",
       "    }\n",
       "\n",
       "    .dataframe tbody tr th {\n",
       "        vertical-align: top;\n",
       "    }\n",
       "\n",
       "    .dataframe thead th {\n",
       "        text-align: right;\n",
       "    }\n",
       "</style>\n",
       "<table border=\"1\" class=\"dataframe\">\n",
       "  <thead>\n",
       "    <tr style=\"text-align: right;\">\n",
       "      <th></th>\n",
       "      <th>tid</th>\n",
       "      <th>Microtasks</th>\n",
       "      <th>assigned_ts</th>\n",
       "      <th>closed_ts</th>\n",
       "    </tr>\n",
       "    <tr>\n",
       "      <th>login</th>\n",
       "      <th></th>\n",
       "      <th></th>\n",
       "      <th></th>\n",
       "      <th></th>\n",
       "    </tr>\n",
       "  </thead>\n",
       "  <tbody>\n",
       "    <tr>\n",
       "      <td>login0</td>\n",
       "      <td>190563850.0</td>\n",
       "      <td>4.0</td>\n",
       "      <td>2017-04-20 12:09:39</td>\n",
       "      <td>2017-04-20 13:13:01</td>\n",
       "    </tr>\n",
       "    <tr>\n",
       "      <td>login0</td>\n",
       "      <td>190561754.0</td>\n",
       "      <td>1.0</td>\n",
       "      <td>2017-04-20 12:10:30</td>\n",
       "      <td>2017-04-20 12:28:29</td>\n",
       "    </tr>\n",
       "    <tr>\n",
       "      <td>login0</td>\n",
       "      <td>190565906.0</td>\n",
       "      <td>4.0</td>\n",
       "      <td>2017-04-20 12:21:31</td>\n",
       "      <td>2017-04-20 13:30:10</td>\n",
       "    </tr>\n",
       "    <tr>\n",
       "      <td>login0</td>\n",
       "      <td>190560246.0</td>\n",
       "      <td>1.0</td>\n",
       "      <td>2017-04-20 12:28:30</td>\n",
       "      <td>2017-04-20 13:13:56</td>\n",
       "    </tr>\n",
       "    <tr>\n",
       "      <td>login0</td>\n",
       "      <td>190562168.0</td>\n",
       "      <td>2.0</td>\n",
       "      <td>2017-04-20 12:28:42</td>\n",
       "      <td>2017-04-20 13:14:50</td>\n",
       "    </tr>\n",
       "  </tbody>\n",
       "</table>\n",
       "</div>"
      ],
      "text/plain": [
       "                tid  Microtasks          assigned_ts            closed_ts\n",
       "login                                                                    \n",
       "login0  190563850.0         4.0  2017-04-20 12:09:39  2017-04-20 13:13:01\n",
       "login0  190561754.0         1.0  2017-04-20 12:10:30  2017-04-20 12:28:29\n",
       "login0  190565906.0         4.0  2017-04-20 12:21:31  2017-04-20 13:30:10\n",
       "login0  190560246.0         1.0  2017-04-20 12:28:30  2017-04-20 13:13:56\n",
       "login0  190562168.0         2.0  2017-04-20 12:28:42  2017-04-20 13:14:50"
      ]
     },
     "execution_count": 7,
     "metadata": {},
     "output_type": "execute_result"
    }
   ],
   "source": [
    "df.head(5)"
   ]
  },
  {
   "cell_type": "markdown",
   "metadata": {},
   "source": [
    "Предварительный план:\n",
    "\n",
    "1. Проверить гипотезу о том, что для каждому tid соответствует лишь одна запись о выполнении\n",
    "\n",
    "Если гипотеза не верна, то сгруппировать по tid \n",
    "Если гипотеза верна то отобрать тестовый набор данных\n",
    "\n",
    "Исходя из условий возможным вариантом решения считаю:\n",
    "1. Рассчитать время, потраченное на каждую таску, построить график, оценить полученные данные\n",
    "\n",
    "Предположительно, показатель времени, затраченного на задание, имеет нормальное распределение\n",
    "Если это так, то нам следует рассчитать порог в 3 стандартных отконения, чтобы отбросить экстремальные значения\n",
    "\n",
    "2. Рассчитать время, потраченное на каждую микротаску для каждого выполнения, построить график, оценить"
   ]
  },
  {
   "cell_type": "code",
   "execution_count": 4,
   "metadata": {},
   "outputs": [
    {
     "name": "stdout",
     "output_type": "stream",
     "text": [
      "701827\n"
     ]
    }
   ],
   "source": [
    "print(len(df))"
   ]
  },
  {
   "cell_type": "code",
   "execution_count": 8,
   "metadata": {},
   "outputs": [],
   "source": [
    "test_data = df.head(100000)"
   ]
  },
  {
   "cell_type": "code",
   "execution_count": 13,
   "metadata": {},
   "outputs": [],
   "source": [
    "test = df.groupby('tid')"
   ]
  },
  {
   "cell_type": "code",
   "execution_count": 14,
   "metadata": {},
   "outputs": [
    {
     "name": "stdout",
     "output_type": "stream",
     "text": [
      "635044\n",
      "Wall time: 8.6 s\n"
     ]
    }
   ],
   "source": [
    "%%time\n",
    "\n",
    "print(len(test))"
   ]
  },
  {
   "cell_type": "code",
   "execution_count": 15,
   "metadata": {},
   "outputs": [],
   "source": [
    "task = df.groupby('Microtasks')"
   ]
  },
  {
   "cell_type": "code",
   "execution_count": 16,
   "metadata": {},
   "outputs": [
    {
     "name": "stdout",
     "output_type": "stream",
     "text": [
      "50\n",
      "Wall time: 73 ms\n"
     ]
    }
   ],
   "source": [
    "%%time\n",
    "\n",
    "print(len(task))"
   ]
  },
  {
   "cell_type": "markdown",
   "metadata": {},
   "source": [
    "Далее вычислим продолжительность выполнения каждого отдельного задания "
   ]
  },
  {
   "cell_type": "code",
   "execution_count": 32,
   "metadata": {},
   "outputs": [],
   "source": [
    "df['time'] = np.nan"
   ]
  },
  {
   "cell_type": "code",
   "execution_count": 40,
   "metadata": {},
   "outputs": [],
   "source": [
    "df['time'] = pd.to_datetime(df['closed_ts']) - pd.to_datetime(df['assigned_ts'])"
   ]
  },
  {
   "cell_type": "code",
   "execution_count": 46,
   "metadata": {},
   "outputs": [
    {
     "data": {
      "text/html": [
       "<div>\n",
       "<style scoped>\n",
       "    .dataframe tbody tr th:only-of-type {\n",
       "        vertical-align: middle;\n",
       "    }\n",
       "\n",
       "    .dataframe tbody tr th {\n",
       "        vertical-align: top;\n",
       "    }\n",
       "\n",
       "    .dataframe thead th {\n",
       "        text-align: right;\n",
       "    }\n",
       "</style>\n",
       "<table border=\"1\" class=\"dataframe\">\n",
       "  <thead>\n",
       "    <tr style=\"text-align: right;\">\n",
       "      <th></th>\n",
       "      <th>tid</th>\n",
       "      <th>Microtasks</th>\n",
       "      <th>assigned_ts</th>\n",
       "      <th>closed_ts</th>\n",
       "      <th>time</th>\n",
       "    </tr>\n",
       "    <tr>\n",
       "      <th>login</th>\n",
       "      <th></th>\n",
       "      <th></th>\n",
       "      <th></th>\n",
       "      <th></th>\n",
       "      <th></th>\n",
       "    </tr>\n",
       "  </thead>\n",
       "  <tbody>\n",
       "    <tr>\n",
       "      <td>login766</td>\n",
       "      <td>195656026.0</td>\n",
       "      <td>1.0</td>\n",
       "      <td>2017-05-15 15:53:27</td>\n",
       "      <td>2017-05-15 16:16:56</td>\n",
       "      <td>00:23:29</td>\n",
       "    </tr>\n",
       "    <tr>\n",
       "      <td>login766</td>\n",
       "      <td>195656174.0</td>\n",
       "      <td>1.0</td>\n",
       "      <td>2017-05-15 15:53:33</td>\n",
       "      <td>2017-05-15 16:21:53</td>\n",
       "      <td>00:28:20</td>\n",
       "    </tr>\n",
       "    <tr>\n",
       "      <td>login766</td>\n",
       "      <td>195656466.0</td>\n",
       "      <td>1.0</td>\n",
       "      <td>2017-05-15 15:53:38</td>\n",
       "      <td>2017-05-15 16:23:41</td>\n",
       "      <td>00:30:03</td>\n",
       "    </tr>\n",
       "    <tr>\n",
       "      <td>login766</td>\n",
       "      <td>195656336.0</td>\n",
       "      <td>3.0</td>\n",
       "      <td>2017-05-15 15:54:18</td>\n",
       "      <td>2017-05-15 16:32:11</td>\n",
       "      <td>00:37:53</td>\n",
       "    </tr>\n",
       "    <tr>\n",
       "      <td>login766</td>\n",
       "      <td>195656078.0</td>\n",
       "      <td>2.0</td>\n",
       "      <td>2017-05-15 15:54:59</td>\n",
       "      <td>2017-05-15 16:17:32</td>\n",
       "      <td>00:22:33</td>\n",
       "    </tr>\n",
       "  </tbody>\n",
       "</table>\n",
       "</div>"
      ],
      "text/plain": [
       "                  tid  Microtasks          assigned_ts            closed_ts  \\\n",
       "login                                                                         \n",
       "login766  195656026.0         1.0  2017-05-15 15:53:27  2017-05-15 16:16:56   \n",
       "login766  195656174.0         1.0  2017-05-15 15:53:33  2017-05-15 16:21:53   \n",
       "login766  195656466.0         1.0  2017-05-15 15:53:38  2017-05-15 16:23:41   \n",
       "login766  195656336.0         3.0  2017-05-15 15:54:18  2017-05-15 16:32:11   \n",
       "login766  195656078.0         2.0  2017-05-15 15:54:59  2017-05-15 16:17:32   \n",
       "\n",
       "             time  \n",
       "login              \n",
       "login766 00:23:29  \n",
       "login766 00:28:20  \n",
       "login766 00:30:03  \n",
       "login766 00:37:53  \n",
       "login766 00:22:33  "
      ]
     },
     "execution_count": 46,
     "metadata": {},
     "output_type": "execute_result"
    }
   ],
   "source": [
    "df.tail(5)"
   ]
  },
  {
   "cell_type": "code",
   "execution_count": 53,
   "metadata": {},
   "outputs": [
    {
     "data": {
      "text/html": [
       "<div>\n",
       "<style scoped>\n",
       "    .dataframe tbody tr th:only-of-type {\n",
       "        vertical-align: middle;\n",
       "    }\n",
       "\n",
       "    .dataframe tbody tr th {\n",
       "        vertical-align: top;\n",
       "    }\n",
       "\n",
       "    .dataframe thead th {\n",
       "        text-align: right;\n",
       "    }\n",
       "</style>\n",
       "<table border=\"1\" class=\"dataframe\">\n",
       "  <thead>\n",
       "    <tr style=\"text-align: right;\">\n",
       "      <th></th>\n",
       "      <th>tid</th>\n",
       "      <th>Microtasks</th>\n",
       "      <th>assigned_ts</th>\n",
       "      <th>closed_ts</th>\n",
       "      <th>time</th>\n",
       "    </tr>\n",
       "    <tr>\n",
       "      <th>login</th>\n",
       "      <th></th>\n",
       "      <th></th>\n",
       "      <th></th>\n",
       "      <th></th>\n",
       "      <th></th>\n",
       "    </tr>\n",
       "  </thead>\n",
       "  <tbody>\n",
       "    <tr>\n",
       "      <td>login657</td>\n",
       "      <td>185714006.0</td>\n",
       "      <td>7.0</td>\n",
       "      <td>2017-04-27 06:33:43</td>\n",
       "      <td>2017-05-20 22:06:41</td>\n",
       "      <td>23 days 15:32:58</td>\n",
       "    </tr>\n",
       "    <tr>\n",
       "      <td>login657</td>\n",
       "      <td>185714006.0</td>\n",
       "      <td>7.0</td>\n",
       "      <td>2017-04-27 06:33:43</td>\n",
       "      <td>2017-05-20 22:06:41</td>\n",
       "      <td>23 days 15:32:58</td>\n",
       "    </tr>\n",
       "    <tr>\n",
       "      <td>login300</td>\n",
       "      <td>185713854.0</td>\n",
       "      <td>17.0</td>\n",
       "      <td>2017-04-29 06:33:09</td>\n",
       "      <td>2017-05-22 16:21:41</td>\n",
       "      <td>23 days 09:48:32</td>\n",
       "    </tr>\n",
       "    <tr>\n",
       "      <td>login300</td>\n",
       "      <td>185713854.0</td>\n",
       "      <td>17.0</td>\n",
       "      <td>2017-04-29 06:33:09</td>\n",
       "      <td>2017-05-22 16:21:41</td>\n",
       "      <td>23 days 09:48:32</td>\n",
       "    </tr>\n",
       "    <tr>\n",
       "      <td>login300</td>\n",
       "      <td>189300182.0</td>\n",
       "      <td>13.0</td>\n",
       "      <td>2017-04-30 06:32:42</td>\n",
       "      <td>2017-05-22 16:23:44</td>\n",
       "      <td>22 days 09:51:02</td>\n",
       "    </tr>\n",
       "  </tbody>\n",
       "</table>\n",
       "</div>"
      ],
      "text/plain": [
       "                  tid  Microtasks          assigned_ts            closed_ts  \\\n",
       "login                                                                         \n",
       "login657  185714006.0         7.0  2017-04-27 06:33:43  2017-05-20 22:06:41   \n",
       "login657  185714006.0         7.0  2017-04-27 06:33:43  2017-05-20 22:06:41   \n",
       "login300  185713854.0        17.0  2017-04-29 06:33:09  2017-05-22 16:21:41   \n",
       "login300  185713854.0        17.0  2017-04-29 06:33:09  2017-05-22 16:21:41   \n",
       "login300  189300182.0        13.0  2017-04-30 06:32:42  2017-05-22 16:23:44   \n",
       "\n",
       "                     time  \n",
       "login                      \n",
       "login657 23 days 15:32:58  \n",
       "login657 23 days 15:32:58  \n",
       "login300 23 days 09:48:32  \n",
       "login300 23 days 09:48:32  \n",
       "login300 22 days 09:51:02  "
      ]
     },
     "execution_count": 53,
     "metadata": {},
     "output_type": "execute_result"
    }
   ],
   "source": [
    "df.sort_values(by = ['time'], ascending=False).head(5)"
   ]
  },
  {
   "cell_type": "markdown",
   "metadata": {},
   "source": [
    "Как видно из отсортированных данных, изучаемый датасет имеет повторения, от которых следует избавиться"
   ]
  },
  {
   "cell_type": "code",
   "execution_count": 57,
   "metadata": {},
   "outputs": [
    {
     "name": "stdout",
     "output_type": "stream",
     "text": [
      "680037\n"
     ]
    }
   ],
   "source": [
    "dfclean = df.drop_duplicates()\n",
    "print(len(dfclean))"
   ]
  },
  {
   "cell_type": "code",
   "execution_count": 58,
   "metadata": {},
   "outputs": [
    {
     "data": {
      "text/html": [
       "<div>\n",
       "<style scoped>\n",
       "    .dataframe tbody tr th:only-of-type {\n",
       "        vertical-align: middle;\n",
       "    }\n",
       "\n",
       "    .dataframe tbody tr th {\n",
       "        vertical-align: top;\n",
       "    }\n",
       "\n",
       "    .dataframe thead th {\n",
       "        text-align: right;\n",
       "    }\n",
       "</style>\n",
       "<table border=\"1\" class=\"dataframe\">\n",
       "  <thead>\n",
       "    <tr style=\"text-align: right;\">\n",
       "      <th></th>\n",
       "      <th>tid</th>\n",
       "      <th>Microtasks</th>\n",
       "      <th>assigned_ts</th>\n",
       "      <th>closed_ts</th>\n",
       "      <th>time</th>\n",
       "    </tr>\n",
       "    <tr>\n",
       "      <th>login</th>\n",
       "      <th></th>\n",
       "      <th></th>\n",
       "      <th></th>\n",
       "      <th></th>\n",
       "      <th></th>\n",
       "    </tr>\n",
       "  </thead>\n",
       "  <tbody>\n",
       "    <tr>\n",
       "      <td>login657</td>\n",
       "      <td>185714006.0</td>\n",
       "      <td>7.0</td>\n",
       "      <td>2017-04-27 06:33:43</td>\n",
       "      <td>2017-05-20 22:06:41</td>\n",
       "      <td>23 days 15:32:58</td>\n",
       "    </tr>\n",
       "    <tr>\n",
       "      <td>login300</td>\n",
       "      <td>185713854.0</td>\n",
       "      <td>17.0</td>\n",
       "      <td>2017-04-29 06:33:09</td>\n",
       "      <td>2017-05-22 16:21:41</td>\n",
       "      <td>23 days 09:48:32</td>\n",
       "    </tr>\n",
       "    <tr>\n",
       "      <td>login300</td>\n",
       "      <td>189300182.0</td>\n",
       "      <td>13.0</td>\n",
       "      <td>2017-04-30 06:32:42</td>\n",
       "      <td>2017-05-22 16:23:44</td>\n",
       "      <td>22 days 09:51:02</td>\n",
       "    </tr>\n",
       "    <tr>\n",
       "      <td>login300</td>\n",
       "      <td>185713868.0</td>\n",
       "      <td>15.0</td>\n",
       "      <td>2017-05-03 06:32:56</td>\n",
       "      <td>2017-05-22 16:26:19</td>\n",
       "      <td>19 days 09:53:23</td>\n",
       "    </tr>\n",
       "    <tr>\n",
       "      <td>login657</td>\n",
       "      <td>195642338.0</td>\n",
       "      <td>1.0</td>\n",
       "      <td>2017-05-17 06:41:20</td>\n",
       "      <td>2017-05-29 17:03:56</td>\n",
       "      <td>12 days 10:22:36</td>\n",
       "    </tr>\n",
       "  </tbody>\n",
       "</table>\n",
       "</div>"
      ],
      "text/plain": [
       "                  tid  Microtasks          assigned_ts            closed_ts  \\\n",
       "login                                                                         \n",
       "login657  185714006.0         7.0  2017-04-27 06:33:43  2017-05-20 22:06:41   \n",
       "login300  185713854.0        17.0  2017-04-29 06:33:09  2017-05-22 16:21:41   \n",
       "login300  189300182.0        13.0  2017-04-30 06:32:42  2017-05-22 16:23:44   \n",
       "login300  185713868.0        15.0  2017-05-03 06:32:56  2017-05-22 16:26:19   \n",
       "login657  195642338.0         1.0  2017-05-17 06:41:20  2017-05-29 17:03:56   \n",
       "\n",
       "                     time  \n",
       "login                      \n",
       "login657 23 days 15:32:58  \n",
       "login300 23 days 09:48:32  \n",
       "login300 22 days 09:51:02  \n",
       "login300 19 days 09:53:23  \n",
       "login657 12 days 10:22:36  "
      ]
     },
     "execution_count": 58,
     "metadata": {},
     "output_type": "execute_result"
    }
   ],
   "source": [
    "dfclean.sort_values(by = ['time'], ascending=False).head(5)"
   ]
  },
  {
   "cell_type": "code",
   "execution_count": 61,
   "metadata": {},
   "outputs": [
    {
     "data": {
      "text/html": [
       "        <script type=\"text/javascript\">\n",
       "        window.PlotlyConfig = {MathJaxConfig: 'local'};\n",
       "        if (window.MathJax) {MathJax.Hub.Config({SVG: {font: \"STIX-Web\"}});}\n",
       "        if (typeof require !== 'undefined') {\n",
       "        require.undef(\"plotly\");\n",
       "        requirejs.config({\n",
       "            paths: {\n",
       "                'plotly': ['https://cdn.plot.ly/plotly-latest.min']\n",
       "            }\n",
       "        });\n",
       "        require(['plotly'], function(Plotly) {\n",
       "            window._Plotly = Plotly;\n",
       "        });\n",
       "        }\n",
       "        </script>\n",
       "        "
      ]
     },
     "metadata": {},
     "output_type": "display_data"
    }
   ],
   "source": [
    "from plotly.offline import download_plotlyjs, init_notebook_mode, plot, iplot\n",
    "init_notebook_mode(connected = True)"
   ]
  },
  {
   "cell_type": "code",
   "execution_count": 62,
   "metadata": {},
   "outputs": [
    {
     "data": {
      "text/plain": [
       "<matplotlib.axes._subplots.AxesSubplot at 0x1c607be0>"
      ]
     },
     "execution_count": 62,
     "metadata": {},
     "output_type": "execute_result"
    },
    {
     "data": {
      "image/png": "[encoded data removed]",
      "text/plain": [
       "<Figure size 1224x432 with 1 Axes>"
      ]
     },
     "metadata": {
      "needs_background": "light"
     },
     "output_type": "display_data"
    }
   ],
   "source": [
    "dfclean.time.plot(figsize = (17, 6))"
   ]
  },
  {
   "cell_type": "code",
   "execution_count": 77,
   "metadata": {},
   "outputs": [],
   "source": [
    "dfclean = dfclean.copy()"
   ]
  },
  {
   "cell_type": "markdown",
   "metadata": {},
   "source": [
    "Далее вычислим среднее время, затраченное на 1 микротаску"
   ]
  },
  {
   "cell_type": "code",
   "execution_count": 80,
   "metadata": {},
   "outputs": [],
   "source": [
    "dfclean['timeonetask'] = dfclean['time'] / dfclean['Microtasks']"
   ]
  },
  {
   "cell_type": "code",
   "execution_count": 84,
   "metadata": {},
   "outputs": [
    {
     "data": {
      "text/html": [
       "<div>\n",
       "<style scoped>\n",
       "    .dataframe tbody tr th:only-of-type {\n",
       "        vertical-align: middle;\n",
       "    }\n",
       "\n",
       "    .dataframe tbody tr th {\n",
       "        vertical-align: top;\n",
       "    }\n",
       "\n",
       "    .dataframe thead th {\n",
       "        text-align: right;\n",
       "    }\n",
       "</style>\n",
       "<table border=\"1\" class=\"dataframe\">\n",
       "  <thead>\n",
       "    <tr style=\"text-align: right;\">\n",
       "      <th></th>\n",
       "      <th>tid</th>\n",
       "      <th>Microtasks</th>\n",
       "      <th>assigned_ts</th>\n",
       "      <th>closed_ts</th>\n",
       "      <th>time</th>\n",
       "      <th>timeonetask</th>\n",
       "    </tr>\n",
       "    <tr>\n",
       "      <th>login</th>\n",
       "      <th></th>\n",
       "      <th></th>\n",
       "      <th></th>\n",
       "      <th></th>\n",
       "      <th></th>\n",
       "      <th></th>\n",
       "    </tr>\n",
       "  </thead>\n",
       "  <tbody>\n",
       "    <tr>\n",
       "      <td>login657</td>\n",
       "      <td>185714006.0</td>\n",
       "      <td>7.0</td>\n",
       "      <td>2017-04-27 06:33:43</td>\n",
       "      <td>2017-05-20 22:06:41</td>\n",
       "      <td>23 days 15:32:58</td>\n",
       "      <td>3 days 09:04:42.571428</td>\n",
       "    </tr>\n",
       "    <tr>\n",
       "      <td>login300</td>\n",
       "      <td>185713854.0</td>\n",
       "      <td>17.0</td>\n",
       "      <td>2017-04-29 06:33:09</td>\n",
       "      <td>2017-05-22 16:21:41</td>\n",
       "      <td>23 days 09:48:32</td>\n",
       "      <td>1 days 09:02:51.294117</td>\n",
       "    </tr>\n",
       "    <tr>\n",
       "      <td>login300</td>\n",
       "      <td>189300182.0</td>\n",
       "      <td>13.0</td>\n",
       "      <td>2017-04-30 06:32:42</td>\n",
       "      <td>2017-05-22 16:23:44</td>\n",
       "      <td>22 days 09:51:02</td>\n",
       "      <td>1 days 17:22:23.230769</td>\n",
       "    </tr>\n",
       "    <tr>\n",
       "      <td>login300</td>\n",
       "      <td>185713868.0</td>\n",
       "      <td>15.0</td>\n",
       "      <td>2017-05-03 06:32:56</td>\n",
       "      <td>2017-05-22 16:26:19</td>\n",
       "      <td>19 days 09:53:23</td>\n",
       "      <td>1 days 07:03:33.533333</td>\n",
       "    </tr>\n",
       "    <tr>\n",
       "      <td>login657</td>\n",
       "      <td>195642338.0</td>\n",
       "      <td>1.0</td>\n",
       "      <td>2017-05-17 06:41:20</td>\n",
       "      <td>2017-05-29 17:03:56</td>\n",
       "      <td>12 days 10:22:36</td>\n",
       "      <td>12 days 10:22:36</td>\n",
       "    </tr>\n",
       "  </tbody>\n",
       "</table>\n",
       "</div>"
      ],
      "text/plain": [
       "                  tid  Microtasks          assigned_ts            closed_ts  \\\n",
       "login                                                                         \n",
       "login657  185714006.0         7.0  2017-04-27 06:33:43  2017-05-20 22:06:41   \n",
       "login300  185713854.0        17.0  2017-04-29 06:33:09  2017-05-22 16:21:41   \n",
       "login300  189300182.0        13.0  2017-04-30 06:32:42  2017-05-22 16:23:44   \n",
       "login300  185713868.0        15.0  2017-05-03 06:32:56  2017-05-22 16:26:19   \n",
       "login657  195642338.0         1.0  2017-05-17 06:41:20  2017-05-29 17:03:56   \n",
       "\n",
       "                     time            timeonetask  \n",
       "login                                             \n",
       "login657 23 days 15:32:58 3 days 09:04:42.571428  \n",
       "login300 23 days 09:48:32 1 days 09:02:51.294117  \n",
       "login300 22 days 09:51:02 1 days 17:22:23.230769  \n",
       "login300 19 days 09:53:23 1 days 07:03:33.533333  \n",
       "login657 12 days 10:22:36       12 days 10:22:36  "
      ]
     },
     "execution_count": 84,
     "metadata": {},
     "output_type": "execute_result"
    }
   ],
   "source": [
    "dfclean.sort_values(by = ['time'], ascending=False).head(5)"
   ]
  },
  {
   "cell_type": "code",
   "execution_count": 85,
   "metadata": {},
   "outputs": [
    {
     "data": {
      "text/plain": [
       "<matplotlib.axes._subplots.AxesSubplot at 0x1c8f3a20>"
      ]
     },
     "execution_count": 85,
     "metadata": {},
     "output_type": "execute_result"
    },
    {
     "data": {
      "image/png": "[encoded data removed]",
      "text/plain": [
       "<Figure size 1224x432 with 1 Axes>"
      ]
     },
     "metadata": {
      "needs_background": "light"
     },
     "output_type": "display_data"
    }
   ],
   "source": [
    "dfclean.timeonetask.plot(figsize = (17, 6))"
   ]
  },
  {
   "cell_type": "code",
   "execution_count": 117,
   "metadata": {},
   "outputs": [
    {
     "data": {
      "text/plain": [
       "login\n",
       "login0       950.500000\n",
       "login0      1079.000000\n",
       "login0      1029.750000\n",
       "login0      2726.000000\n",
       "login0      1384.000000\n",
       "               ...     \n",
       "login766    1409.000000\n",
       "login766    1700.000000\n",
       "login766    1803.000000\n",
       "login766     757.666667\n",
       "login766     676.500000\n",
       "Name: timeonetask, Length: 680037, dtype: float64"
      ]
     },
     "execution_count": 117,
     "metadata": {},
     "output_type": "execute_result"
    }
   ],
   "source": [
    "dfclean.timeonetask.dt.total_seconds()"
   ]
  },
  {
   "cell_type": "code",
   "execution_count": 128,
   "metadata": {},
   "outputs": [],
   "source": [
    "temp = dfclean.timeonetask.dt.total_seconds().tolist()"
   ]
  },
  {
   "cell_type": "code",
   "execution_count": 131,
   "metadata": {},
   "outputs": [
    {
     "data": {
      "image/png": "[encoded data removed]",
      "text/plain": [
       "<Figure size 432x288 with 1 Axes>"
      ]
     },
     "metadata": {
      "needs_background": "light"
     },
     "output_type": "display_data"
    }
   ],
   "source": [
    "import matplotlib.pyplot as plt\n",
    "plt.plot(temp)\n",
    "plt.ylabel('some numbers')\n",
    "plt.show()"
   ]
  },
  {
   "cell_type": "code",
   "execution_count": null,
   "metadata": {},
   "outputs": [],
   "source": []
  }
 ],
 "metadata": {
  "kernelspec": {
   "display_name": "Python 3",
   "language": "python",
   "name": "python3"
  },
  "language_info": {
   "codemirror_mode": {
    "name": "ipython",
    "version": 3
   },
   "file_extension": ".py",
   "mimetype": "text/x-python",
   "name": "python",
   "nbconvert_exporter": "python",
   "pygments_lexer": "ipython3",
   "version": "3.7.2"
  }
 },
 "nbformat": 4,
 "nbformat_minor": 2
}

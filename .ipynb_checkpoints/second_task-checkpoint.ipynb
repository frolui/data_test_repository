{
 "cells": [
  {
   "cell_type": "markdown",
   "metadata": {},
   "source": [
    "Имеется файл с временной статистикой работы асессоров над однотипным заданием. \n",
    "\n",
    "Формат файла: login tid Microtasks assigned_ts tclosed_ts \n",
    "\n",
    "Пояснение к формату: login — логин асессора; \n",
    "                     tid — id оцениваемого задания (task id); \n",
    "                     Microtasks – количество микрозаданий в одном задании; \n",
    "                     assigned_ts — время резервирования системой задания для асессора; \n",
    "                     closed_ts — точное время завершения работы над заданием; \n",
    "                     \n",
    "                     разделитель — табуляция \\t. \n",
    "                     \n",
    "Задание может состоять из одного или несколько микрозаданий. Время резервирования задания (assigned_ts) указывает на тот момент, когда система назначила определенного асессора исполнителем этого задания. Этот момент может совпадать с временем начала работы асессора над заданием, а может и не совпадать (асессор может отойти выпить чаю, а потом приступить к заданию, асессор может выполнять предыдущее задание, в то время как за ним зарезервированы новые). \n",
    "\n",
    "Предположим, что асессор за 30 секунд своего рабочего времени получает N рублей. Какую оплату вы считаете справедливой для выполнения асессором одного микрозадания из этого файла? Опишите подробно все этапы вашего решения."
   ]
  },
  {
   "cell_type": "code",
   "execution_count": 1,
   "metadata": {},
   "outputs": [],
   "source": [
    "import pandas as pd\n",
    "import numpy as np"
   ]
  },
  {
   "cell_type": "code",
   "execution_count": 2,
   "metadata": {},
   "outputs": [],
   "source": [
    "df = pd.read_csv('data_task4_old.txt', sep='\\t', index_col=0)"
   ]
  },
  {
   "cell_type": "code",
   "execution_count": 7,
   "metadata": {},
   "outputs": [
    {
     "data": {
      "text/html": [
       "<div>\n",
       "<style scoped>\n",
       "    .dataframe tbody tr th:only-of-type {\n",
       "        vertical-align: middle;\n",
       "    }\n",
       "\n",
       "    .dataframe tbody tr th {\n",
       "        vertical-align: top;\n",
       "    }\n",
       "\n",
       "    .dataframe thead th {\n",
       "        text-align: right;\n",
       "    }\n",
       "</style>\n",
       "<table border=\"1\" class=\"dataframe\">\n",
       "  <thead>\n",
       "    <tr style=\"text-align: right;\">\n",
       "      <th></th>\n",
       "      <th>tid</th>\n",
       "      <th>Microtasks</th>\n",
       "      <th>assigned_ts</th>\n",
       "      <th>closed_ts</th>\n",
       "    </tr>\n",
       "    <tr>\n",
       "      <th>login</th>\n",
       "      <th></th>\n",
       "      <th></th>\n",
       "      <th></th>\n",
       "      <th></th>\n",
       "    </tr>\n",
       "  </thead>\n",
       "  <tbody>\n",
       "    <tr>\n",
       "      <td>login0</td>\n",
       "      <td>190563850.0</td>\n",
       "      <td>4.0</td>\n",
       "      <td>2017-04-20 12:09:39</td>\n",
       "      <td>2017-04-20 13:13:01</td>\n",
       "    </tr>\n",
       "    <tr>\n",
       "      <td>login0</td>\n",
       "      <td>190561754.0</td>\n",
       "      <td>1.0</td>\n",
       "      <td>2017-04-20 12:10:30</td>\n",
       "      <td>2017-04-20 12:28:29</td>\n",
       "    </tr>\n",
       "    <tr>\n",
       "      <td>login0</td>\n",
       "      <td>190565906.0</td>\n",
       "      <td>4.0</td>\n",
       "      <td>2017-04-20 12:21:31</td>\n",
       "      <td>2017-04-20 13:30:10</td>\n",
       "    </tr>\n",
       "    <tr>\n",
       "      <td>login0</td>\n",
       "      <td>190560246.0</td>\n",
       "      <td>1.0</td>\n",
       "      <td>2017-04-20 12:28:30</td>\n",
       "      <td>2017-04-20 13:13:56</td>\n",
       "    </tr>\n",
       "    <tr>\n",
       "      <td>login0</td>\n",
       "      <td>190562168.0</td>\n",
       "      <td>2.0</td>\n",
       "      <td>2017-04-20 12:28:42</td>\n",
       "      <td>2017-04-20 13:14:50</td>\n",
       "    </tr>\n",
       "  </tbody>\n",
       "</table>\n",
       "</div>"
      ],
      "text/plain": [
       "                tid  Microtasks          assigned_ts            closed_ts\n",
       "login                                                                    \n",
       "login0  190563850.0         4.0  2017-04-20 12:09:39  2017-04-20 13:13:01\n",
       "login0  190561754.0         1.0  2017-04-20 12:10:30  2017-04-20 12:28:29\n",
       "login0  190565906.0         4.0  2017-04-20 12:21:31  2017-04-20 13:30:10\n",
       "login0  190560246.0         1.0  2017-04-20 12:28:30  2017-04-20 13:13:56\n",
       "login0  190562168.0         2.0  2017-04-20 12:28:42  2017-04-20 13:14:50"
      ]
     },
     "execution_count": 7,
     "metadata": {},
     "output_type": "execute_result"
    }
   ],
   "source": [
    "df.head(5)"
   ]
  },
  {
   "cell_type": "markdown",
   "metadata": {},
   "source": [
    "Предварительный план:\n",
    "\n",
    "1. Проверить гипотезу о том, что для каждому tid соответствует лишь одна запись о выполнении\n",
    "\n",
    "Исходя из условий возможным вариантом поиска решения считаю:\n",
    "2. Рассчитать время, потраченное на каждое задание, построить график, оценить полученные данные\n",
    "3. Рассчитать время, потраченное на каждое микрозадание для каждого выполнения, построить график, оценить"
   ]
  },
  {
   "cell_type": "code",
   "execution_count": 4,
   "metadata": {},
   "outputs": [
    {
     "name": "stdout",
     "output_type": "stream",
     "text": [
      "701827\n"
     ]
    }
   ],
   "source": [
    "# Всего записей в файле\n",
    "print(len(df))"
   ]
  },
  {
   "cell_type": "code",
   "execution_count": 13,
   "metadata": {},
   "outputs": [],
   "source": [
    "test = df.groupby('tid')"
   ]
  },
  {
   "cell_type": "code",
   "execution_count": 14,
   "metadata": {},
   "outputs": [
    {
     "name": "stdout",
     "output_type": "stream",
     "text": [
      "635044\n",
      "Wall time: 8.6 s\n"
     ]
    }
   ],
   "source": [
    "%%time\n",
    "\n",
    "print(len(test))"
   ]
  },
  {
   "cell_type": "code",
   "execution_count": 15,
   "metadata": {},
   "outputs": [],
   "source": [
    "task = df.groupby('Microtasks')"
   ]
  },
  {
   "cell_type": "code",
   "execution_count": 16,
   "metadata": {},
   "outputs": [
    {
     "name": "stdout",
     "output_type": "stream",
     "text": [
      "50\n",
      "Wall time: 73 ms\n"
     ]
    }
   ],
   "source": [
    "%%time\n",
    "\n",
    "print(len(task))"
   ]
  },
  {
   "cell_type": "markdown",
   "metadata": {},
   "source": [
    "Далее вычислим продолжительность выполнения каждого отдельного задания "
   ]
  },
  {
   "cell_type": "code",
   "execution_count": 32,
   "metadata": {},
   "outputs": [],
   "source": [
    "df['time'] = np.nan"
   ]
  },
  {
   "cell_type": "code",
   "execution_count": 40,
   "metadata": {},
   "outputs": [],
   "source": [
    "df['time'] = pd.to_datetime(df['closed_ts']) - pd.to_datetime(df['assigned_ts'])"
   ]
  },
  {
   "cell_type": "code",
   "execution_count": 46,
   "metadata": {},
   "outputs": [
    {
     "data": {
      "text/html": [
       "<div>\n",
       "<style scoped>\n",
       "    .dataframe tbody tr th:only-of-type {\n",
       "        vertical-align: middle;\n",
       "    }\n",
       "\n",
       "    .dataframe tbody tr th {\n",
       "        vertical-align: top;\n",
       "    }\n",
       "\n",
       "    .dataframe thead th {\n",
       "        text-align: right;\n",
       "    }\n",
       "</style>\n",
       "<table border=\"1\" class=\"dataframe\">\n",
       "  <thead>\n",
       "    <tr style=\"text-align: right;\">\n",
       "      <th></th>\n",
       "      <th>tid</th>\n",
       "      <th>Microtasks</th>\n",
       "      <th>assigned_ts</th>\n",
       "      <th>closed_ts</th>\n",
       "      <th>time</th>\n",
       "    </tr>\n",
       "    <tr>\n",
       "      <th>login</th>\n",
       "      <th></th>\n",
       "      <th></th>\n",
       "      <th></th>\n",
       "      <th></th>\n",
       "      <th></th>\n",
       "    </tr>\n",
       "  </thead>\n",
       "  <tbody>\n",
       "    <tr>\n",
       "      <td>login766</td>\n",
       "      <td>195656026.0</td>\n",
       "      <td>1.0</td>\n",
       "      <td>2017-05-15 15:53:27</td>\n",
       "      <td>2017-05-15 16:16:56</td>\n",
       "      <td>00:23:29</td>\n",
       "    </tr>\n",
       "    <tr>\n",
       "      <td>login766</td>\n",
       "      <td>195656174.0</td>\n",
       "      <td>1.0</td>\n",
       "      <td>2017-05-15 15:53:33</td>\n",
       "      <td>2017-05-15 16:21:53</td>\n",
       "      <td>00:28:20</td>\n",
       "    </tr>\n",
       "    <tr>\n",
       "      <td>login766</td>\n",
       "      <td>195656466.0</td>\n",
       "      <td>1.0</td>\n",
       "      <td>2017-05-15 15:53:38</td>\n",
       "      <td>2017-05-15 16:23:41</td>\n",
       "      <td>00:30:03</td>\n",
       "    </tr>\n",
       "    <tr>\n",
       "      <td>login766</td>\n",
       "      <td>195656336.0</td>\n",
       "      <td>3.0</td>\n",
       "      <td>2017-05-15 15:54:18</td>\n",
       "      <td>2017-05-15 16:32:11</td>\n",
       "      <td>00:37:53</td>\n",
       "    </tr>\n",
       "    <tr>\n",
       "      <td>login766</td>\n",
       "      <td>195656078.0</td>\n",
       "      <td>2.0</td>\n",
       "      <td>2017-05-15 15:54:59</td>\n",
       "      <td>2017-05-15 16:17:32</td>\n",
       "      <td>00:22:33</td>\n",
       "    </tr>\n",
       "  </tbody>\n",
       "</table>\n",
       "</div>"
      ],
      "text/plain": [
       "                  tid  Microtasks          assigned_ts            closed_ts  \\\n",
       "login                                                                         \n",
       "login766  195656026.0         1.0  2017-05-15 15:53:27  2017-05-15 16:16:56   \n",
       "login766  195656174.0         1.0  2017-05-15 15:53:33  2017-05-15 16:21:53   \n",
       "login766  195656466.0         1.0  2017-05-15 15:53:38  2017-05-15 16:23:41   \n",
       "login766  195656336.0         3.0  2017-05-15 15:54:18  2017-05-15 16:32:11   \n",
       "login766  195656078.0         2.0  2017-05-15 15:54:59  2017-05-15 16:17:32   \n",
       "\n",
       "             time  \n",
       "login              \n",
       "login766 00:23:29  \n",
       "login766 00:28:20  \n",
       "login766 00:30:03  \n",
       "login766 00:37:53  \n",
       "login766 00:22:33  "
      ]
     },
     "execution_count": 46,
     "metadata": {},
     "output_type": "execute_result"
    }
   ],
   "source": [
    "df.tail(5)"
   ]
  },
  {
   "cell_type": "code",
   "execution_count": 143,
   "metadata": {},
   "outputs": [
    {
     "data": {
      "text/html": [
       "<div>\n",
       "<style scoped>\n",
       "    .dataframe tbody tr th:only-of-type {\n",
       "        vertical-align: middle;\n",
       "    }\n",
       "\n",
       "    .dataframe tbody tr th {\n",
       "        vertical-align: top;\n",
       "    }\n",
       "\n",
       "    .dataframe thead th {\n",
       "        text-align: right;\n",
       "    }\n",
       "</style>\n",
       "<table border=\"1\" class=\"dataframe\">\n",
       "  <thead>\n",
       "    <tr style=\"text-align: right;\">\n",
       "      <th></th>\n",
       "      <th>tid</th>\n",
       "      <th>Microtasks</th>\n",
       "      <th>assigned_ts</th>\n",
       "      <th>closed_ts</th>\n",
       "      <th>time</th>\n",
       "    </tr>\n",
       "    <tr>\n",
       "      <th>login</th>\n",
       "      <th></th>\n",
       "      <th></th>\n",
       "      <th></th>\n",
       "      <th></th>\n",
       "      <th></th>\n",
       "    </tr>\n",
       "  </thead>\n",
       "  <tbody>\n",
       "    <tr>\n",
       "      <td>login657</td>\n",
       "      <td>185714006.0</td>\n",
       "      <td>7.0</td>\n",
       "      <td>2017-04-27 06:33:43</td>\n",
       "      <td>2017-05-20 22:06:41</td>\n",
       "      <td>23 days 15:32:58</td>\n",
       "    </tr>\n",
       "    <tr>\n",
       "      <td>login657</td>\n",
       "      <td>185714006.0</td>\n",
       "      <td>7.0</td>\n",
       "      <td>2017-04-27 06:33:43</td>\n",
       "      <td>2017-05-20 22:06:41</td>\n",
       "      <td>23 days 15:32:58</td>\n",
       "    </tr>\n",
       "    <tr>\n",
       "      <td>login300</td>\n",
       "      <td>185713854.0</td>\n",
       "      <td>17.0</td>\n",
       "      <td>2017-04-29 06:33:09</td>\n",
       "      <td>2017-05-22 16:21:41</td>\n",
       "      <td>23 days 09:48:32</td>\n",
       "    </tr>\n",
       "    <tr>\n",
       "      <td>login300</td>\n",
       "      <td>185713854.0</td>\n",
       "      <td>17.0</td>\n",
       "      <td>2017-04-29 06:33:09</td>\n",
       "      <td>2017-05-22 16:21:41</td>\n",
       "      <td>23 days 09:48:32</td>\n",
       "    </tr>\n",
       "    <tr>\n",
       "      <td>login300</td>\n",
       "      <td>189300182.0</td>\n",
       "      <td>13.0</td>\n",
       "      <td>2017-04-30 06:32:42</td>\n",
       "      <td>2017-05-22 16:23:44</td>\n",
       "      <td>22 days 09:51:02</td>\n",
       "    </tr>\n",
       "  </tbody>\n",
       "</table>\n",
       "</div>"
      ],
      "text/plain": [
       "                  tid  Microtasks          assigned_ts            closed_ts  \\\n",
       "login                                                                         \n",
       "login657  185714006.0         7.0  2017-04-27 06:33:43  2017-05-20 22:06:41   \n",
       "login657  185714006.0         7.0  2017-04-27 06:33:43  2017-05-20 22:06:41   \n",
       "login300  185713854.0        17.0  2017-04-29 06:33:09  2017-05-22 16:21:41   \n",
       "login300  185713854.0        17.0  2017-04-29 06:33:09  2017-05-22 16:21:41   \n",
       "login300  189300182.0        13.0  2017-04-30 06:32:42  2017-05-22 16:23:44   \n",
       "\n",
       "                     time  \n",
       "login                      \n",
       "login657 23 days 15:32:58  \n",
       "login657 23 days 15:32:58  \n",
       "login300 23 days 09:48:32  \n",
       "login300 23 days 09:48:32  \n",
       "login300 22 days 09:51:02  "
      ]
     },
     "execution_count": 143,
     "metadata": {},
     "output_type": "execute_result"
    }
   ],
   "source": [
    "df.sort_values(by = ['time'], ascending=False).head(5)"
   ]
  },
  {
   "cell_type": "markdown",
   "metadata": {},
   "source": [
    "Как видно из отсортированных данных, изучаемый датасет имеет повторения, от которых следует избавиться"
   ]
  },
  {
   "cell_type": "code",
   "execution_count": 57,
   "metadata": {},
   "outputs": [
    {
     "name": "stdout",
     "output_type": "stream",
     "text": [
      "680037\n"
     ]
    }
   ],
   "source": [
    "dfclean = df.drop_duplicates()\n",
    "print(len(dfclean))"
   ]
  },
  {
   "cell_type": "code",
   "execution_count": 58,
   "metadata": {},
   "outputs": [
    {
     "data": {
      "text/html": [
       "<div>\n",
       "<style scoped>\n",
       "    .dataframe tbody tr th:only-of-type {\n",
       "        vertical-align: middle;\n",
       "    }\n",
       "\n",
       "    .dataframe tbody tr th {\n",
       "        vertical-align: top;\n",
       "    }\n",
       "\n",
       "    .dataframe thead th {\n",
       "        text-align: right;\n",
       "    }\n",
       "</style>\n",
       "<table border=\"1\" class=\"dataframe\">\n",
       "  <thead>\n",
       "    <tr style=\"text-align: right;\">\n",
       "      <th></th>\n",
       "      <th>tid</th>\n",
       "      <th>Microtasks</th>\n",
       "      <th>assigned_ts</th>\n",
       "      <th>closed_ts</th>\n",
       "      <th>time</th>\n",
       "    </tr>\n",
       "    <tr>\n",
       "      <th>login</th>\n",
       "      <th></th>\n",
       "      <th></th>\n",
       "      <th></th>\n",
       "      <th></th>\n",
       "      <th></th>\n",
       "    </tr>\n",
       "  </thead>\n",
       "  <tbody>\n",
       "    <tr>\n",
       "      <td>login657</td>\n",
       "      <td>185714006.0</td>\n",
       "      <td>7.0</td>\n",
       "      <td>2017-04-27 06:33:43</td>\n",
       "      <td>2017-05-20 22:06:41</td>\n",
       "      <td>23 days 15:32:58</td>\n",
       "    </tr>\n",
       "    <tr>\n",
       "      <td>login300</td>\n",
       "      <td>185713854.0</td>\n",
       "      <td>17.0</td>\n",
       "      <td>2017-04-29 06:33:09</td>\n",
       "      <td>2017-05-22 16:21:41</td>\n",
       "      <td>23 days 09:48:32</td>\n",
       "    </tr>\n",
       "    <tr>\n",
       "      <td>login300</td>\n",
       "      <td>189300182.0</td>\n",
       "      <td>13.0</td>\n",
       "      <td>2017-04-30 06:32:42</td>\n",
       "      <td>2017-05-22 16:23:44</td>\n",
       "      <td>22 days 09:51:02</td>\n",
       "    </tr>\n",
       "    <tr>\n",
       "      <td>login300</td>\n",
       "      <td>185713868.0</td>\n",
       "      <td>15.0</td>\n",
       "      <td>2017-05-03 06:32:56</td>\n",
       "      <td>2017-05-22 16:26:19</td>\n",
       "      <td>19 days 09:53:23</td>\n",
       "    </tr>\n",
       "    <tr>\n",
       "      <td>login657</td>\n",
       "      <td>195642338.0</td>\n",
       "      <td>1.0</td>\n",
       "      <td>2017-05-17 06:41:20</td>\n",
       "      <td>2017-05-29 17:03:56</td>\n",
       "      <td>12 days 10:22:36</td>\n",
       "    </tr>\n",
       "  </tbody>\n",
       "</table>\n",
       "</div>"
      ],
      "text/plain": [
       "                  tid  Microtasks          assigned_ts            closed_ts  \\\n",
       "login                                                                         \n",
       "login657  185714006.0         7.0  2017-04-27 06:33:43  2017-05-20 22:06:41   \n",
       "login300  185713854.0        17.0  2017-04-29 06:33:09  2017-05-22 16:21:41   \n",
       "login300  189300182.0        13.0  2017-04-30 06:32:42  2017-05-22 16:23:44   \n",
       "login300  185713868.0        15.0  2017-05-03 06:32:56  2017-05-22 16:26:19   \n",
       "login657  195642338.0         1.0  2017-05-17 06:41:20  2017-05-29 17:03:56   \n",
       "\n",
       "                     time  \n",
       "login                      \n",
       "login657 23 days 15:32:58  \n",
       "login300 23 days 09:48:32  \n",
       "login300 22 days 09:51:02  \n",
       "login300 19 days 09:53:23  \n",
       "login657 12 days 10:22:36  "
      ]
     },
     "execution_count": 58,
     "metadata": {},
     "output_type": "execute_result"
    }
   ],
   "source": [
    "dfclean.sort_values(by = ['time'], ascending=False).head(5)"
   ]
  },
  {
   "cell_type": "code",
   "execution_count": 77,
   "metadata": {},
   "outputs": [],
   "source": [
    "dfclean = dfclean.copy()"
   ]
  },
  {
   "cell_type": "markdown",
   "metadata": {},
   "source": [
    "Далее вычислим среднее время, затраченное на 1 микрозадание"
   ]
  },
  {
   "cell_type": "code",
   "execution_count": 80,
   "metadata": {},
   "outputs": [],
   "source": [
    "dfclean['timeonetask'] = dfclean['time'] / dfclean['Microtasks']"
   ]
  },
  {
   "cell_type": "code",
   "execution_count": 84,
   "metadata": {},
   "outputs": [
    {
     "data": {
      "text/html": [
       "<div>\n",
       "<style scoped>\n",
       "    .dataframe tbody tr th:only-of-type {\n",
       "        vertical-align: middle;\n",
       "    }\n",
       "\n",
       "    .dataframe tbody tr th {\n",
       "        vertical-align: top;\n",
       "    }\n",
       "\n",
       "    .dataframe thead th {\n",
       "        text-align: right;\n",
       "    }\n",
       "</style>\n",
       "<table border=\"1\" class=\"dataframe\">\n",
       "  <thead>\n",
       "    <tr style=\"text-align: right;\">\n",
       "      <th></th>\n",
       "      <th>tid</th>\n",
       "      <th>Microtasks</th>\n",
       "      <th>assigned_ts</th>\n",
       "      <th>closed_ts</th>\n",
       "      <th>time</th>\n",
       "      <th>timeonetask</th>\n",
       "    </tr>\n",
       "    <tr>\n",
       "      <th>login</th>\n",
       "      <th></th>\n",
       "      <th></th>\n",
       "      <th></th>\n",
       "      <th></th>\n",
       "      <th></th>\n",
       "      <th></th>\n",
       "    </tr>\n",
       "  </thead>\n",
       "  <tbody>\n",
       "    <tr>\n",
       "      <td>login657</td>\n",
       "      <td>185714006.0</td>\n",
       "      <td>7.0</td>\n",
       "      <td>2017-04-27 06:33:43</td>\n",
       "      <td>2017-05-20 22:06:41</td>\n",
       "      <td>23 days 15:32:58</td>\n",
       "      <td>3 days 09:04:42.571428</td>\n",
       "    </tr>\n",
       "    <tr>\n",
       "      <td>login300</td>\n",
       "      <td>185713854.0</td>\n",
       "      <td>17.0</td>\n",
       "      <td>2017-04-29 06:33:09</td>\n",
       "      <td>2017-05-22 16:21:41</td>\n",
       "      <td>23 days 09:48:32</td>\n",
       "      <td>1 days 09:02:51.294117</td>\n",
       "    </tr>\n",
       "    <tr>\n",
       "      <td>login300</td>\n",
       "      <td>189300182.0</td>\n",
       "      <td>13.0</td>\n",
       "      <td>2017-04-30 06:32:42</td>\n",
       "      <td>2017-05-22 16:23:44</td>\n",
       "      <td>22 days 09:51:02</td>\n",
       "      <td>1 days 17:22:23.230769</td>\n",
       "    </tr>\n",
       "    <tr>\n",
       "      <td>login300</td>\n",
       "      <td>185713868.0</td>\n",
       "      <td>15.0</td>\n",
       "      <td>2017-05-03 06:32:56</td>\n",
       "      <td>2017-05-22 16:26:19</td>\n",
       "      <td>19 days 09:53:23</td>\n",
       "      <td>1 days 07:03:33.533333</td>\n",
       "    </tr>\n",
       "    <tr>\n",
       "      <td>login657</td>\n",
       "      <td>195642338.0</td>\n",
       "      <td>1.0</td>\n",
       "      <td>2017-05-17 06:41:20</td>\n",
       "      <td>2017-05-29 17:03:56</td>\n",
       "      <td>12 days 10:22:36</td>\n",
       "      <td>12 days 10:22:36</td>\n",
       "    </tr>\n",
       "  </tbody>\n",
       "</table>\n",
       "</div>"
      ],
      "text/plain": [
       "                  tid  Microtasks          assigned_ts            closed_ts  \\\n",
       "login                                                                         \n",
       "login657  185714006.0         7.0  2017-04-27 06:33:43  2017-05-20 22:06:41   \n",
       "login300  185713854.0        17.0  2017-04-29 06:33:09  2017-05-22 16:21:41   \n",
       "login300  189300182.0        13.0  2017-04-30 06:32:42  2017-05-22 16:23:44   \n",
       "login300  185713868.0        15.0  2017-05-03 06:32:56  2017-05-22 16:26:19   \n",
       "login657  195642338.0         1.0  2017-05-17 06:41:20  2017-05-29 17:03:56   \n",
       "\n",
       "                     time            timeonetask  \n",
       "login                                             \n",
       "login657 23 days 15:32:58 3 days 09:04:42.571428  \n",
       "login300 23 days 09:48:32 1 days 09:02:51.294117  \n",
       "login300 22 days 09:51:02 1 days 17:22:23.230769  \n",
       "login300 19 days 09:53:23 1 days 07:03:33.533333  \n",
       "login657 12 days 10:22:36       12 days 10:22:36  "
      ]
     },
     "execution_count": 84,
     "metadata": {},
     "output_type": "execute_result"
    }
   ],
   "source": [
    "dfclean.sort_values(by = ['time'], ascending=False).head(5)"
   ]
  },
  {
   "cell_type": "code",
   "execution_count": 137,
   "metadata": {},
   "outputs": [
    {
     "data": {
      "text/html": [
       "<div>\n",
       "<style scoped>\n",
       "    .dataframe tbody tr th:only-of-type {\n",
       "        vertical-align: middle;\n",
       "    }\n",
       "\n",
       "    .dataframe tbody tr th {\n",
       "        vertical-align: top;\n",
       "    }\n",
       "\n",
       "    .dataframe thead th {\n",
       "        text-align: right;\n",
       "    }\n",
       "</style>\n",
       "<table border=\"1\" class=\"dataframe\">\n",
       "  <thead>\n",
       "    <tr style=\"text-align: right;\">\n",
       "      <th></th>\n",
       "      <th>tid</th>\n",
       "      <th>Microtasks</th>\n",
       "      <th>assigned_ts</th>\n",
       "      <th>closed_ts</th>\n",
       "      <th>time</th>\n",
       "      <th>timeonetask</th>\n",
       "    </tr>\n",
       "    <tr>\n",
       "      <th>login</th>\n",
       "      <th></th>\n",
       "      <th></th>\n",
       "      <th></th>\n",
       "      <th></th>\n",
       "      <th></th>\n",
       "      <th></th>\n",
       "    </tr>\n",
       "  </thead>\n",
       "  <tbody>\n",
       "    <tr>\n",
       "      <td>login585</td>\n",
       "      <td>197340894.0</td>\n",
       "      <td>1.0</td>\n",
       "      <td>2017-05-24 16:13:06</td>\n",
       "      <td>2017-05-24 16:00:57</td>\n",
       "      <td>-1 days +23:47:51</td>\n",
       "      <td>-1 days +23:47:51</td>\n",
       "    </tr>\n",
       "    <tr>\n",
       "      <td>login699</td>\n",
       "      <td>195930544.0</td>\n",
       "      <td>1.0</td>\n",
       "      <td>2017-05-16 14:14:37</td>\n",
       "      <td>2017-05-16 14:14:40</td>\n",
       "      <td>00:00:03</td>\n",
       "      <td>00:00:03</td>\n",
       "    </tr>\n",
       "    <tr>\n",
       "      <td>login699</td>\n",
       "      <td>195931178.0</td>\n",
       "      <td>1.0</td>\n",
       "      <td>2017-05-16 14:14:29</td>\n",
       "      <td>2017-05-16 14:14:32</td>\n",
       "      <td>00:00:03</td>\n",
       "      <td>00:00:03</td>\n",
       "    </tr>\n",
       "    <tr>\n",
       "      <td>login699</td>\n",
       "      <td>195931108.0</td>\n",
       "      <td>1.0</td>\n",
       "      <td>2017-05-16 14:15:31</td>\n",
       "      <td>2017-05-16 14:15:34</td>\n",
       "      <td>00:00:03</td>\n",
       "      <td>00:00:03</td>\n",
       "    </tr>\n",
       "    <tr>\n",
       "      <td>login699</td>\n",
       "      <td>195930258.0</td>\n",
       "      <td>1.0</td>\n",
       "      <td>2017-05-16 14:14:42</td>\n",
       "      <td>2017-05-16 14:14:45</td>\n",
       "      <td>00:00:03</td>\n",
       "      <td>00:00:03</td>\n",
       "    </tr>\n",
       "  </tbody>\n",
       "</table>\n",
       "</div>"
      ],
      "text/plain": [
       "                  tid  Microtasks          assigned_ts            closed_ts  \\\n",
       "login                                                                         \n",
       "login585  197340894.0         1.0  2017-05-24 16:13:06  2017-05-24 16:00:57   \n",
       "login699  195930544.0         1.0  2017-05-16 14:14:37  2017-05-16 14:14:40   \n",
       "login699  195931178.0         1.0  2017-05-16 14:14:29  2017-05-16 14:14:32   \n",
       "login699  195931108.0         1.0  2017-05-16 14:15:31  2017-05-16 14:15:34   \n",
       "login699  195930258.0         1.0  2017-05-16 14:14:42  2017-05-16 14:14:45   \n",
       "\n",
       "                      time       timeonetask  \n",
       "login                                         \n",
       "login585 -1 days +23:47:51 -1 days +23:47:51  \n",
       "login699          00:00:03          00:00:03  \n",
       "login699          00:00:03          00:00:03  \n",
       "login699          00:00:03          00:00:03  \n",
       "login699          00:00:03          00:00:03  "
      ]
     },
     "execution_count": 137,
     "metadata": {},
     "output_type": "execute_result"
    }
   ],
   "source": [
    "dfclean.sort_values(by = ['time'], ascending=True).head(5)"
   ]
  },
  {
   "cell_type": "markdown",
   "metadata": {},
   "source": [
    "Как видно, исследуемы набор данных содержит отрицательные значения времени выполнения. Исходя из начального условия можно утверждать, что подобный случай невозможен и является результатом ошибки. Следовательно, его следует удалить из набора данных."
   ]
  },
  {
   "cell_type": "code",
   "execution_count": 139,
   "metadata": {},
   "outputs": [],
   "source": [
    "dfclean = dfclean[dfclean.time != '-1 days +23:47:51']"
   ]
  },
  {
   "cell_type": "code",
   "execution_count": 141,
   "metadata": {},
   "outputs": [
    {
     "data": {
      "text/html": [
       "<div>\n",
       "<style scoped>\n",
       "    .dataframe tbody tr th:only-of-type {\n",
       "        vertical-align: middle;\n",
       "    }\n",
       "\n",
       "    .dataframe tbody tr th {\n",
       "        vertical-align: top;\n",
       "    }\n",
       "\n",
       "    .dataframe thead th {\n",
       "        text-align: right;\n",
       "    }\n",
       "</style>\n",
       "<table border=\"1\" class=\"dataframe\">\n",
       "  <thead>\n",
       "    <tr style=\"text-align: right;\">\n",
       "      <th></th>\n",
       "      <th>tid</th>\n",
       "      <th>Microtasks</th>\n",
       "      <th>assigned_ts</th>\n",
       "      <th>closed_ts</th>\n",
       "      <th>time</th>\n",
       "      <th>timeonetask</th>\n",
       "    </tr>\n",
       "    <tr>\n",
       "      <th>login</th>\n",
       "      <th></th>\n",
       "      <th></th>\n",
       "      <th></th>\n",
       "      <th></th>\n",
       "      <th></th>\n",
       "      <th></th>\n",
       "    </tr>\n",
       "  </thead>\n",
       "  <tbody>\n",
       "    <tr>\n",
       "      <td>login699</td>\n",
       "      <td>195930544.0</td>\n",
       "      <td>1.0</td>\n",
       "      <td>2017-05-16 14:14:37</td>\n",
       "      <td>2017-05-16 14:14:40</td>\n",
       "      <td>00:00:03</td>\n",
       "      <td>00:00:03</td>\n",
       "    </tr>\n",
       "    <tr>\n",
       "      <td>login699</td>\n",
       "      <td>195931108.0</td>\n",
       "      <td>1.0</td>\n",
       "      <td>2017-05-16 14:15:31</td>\n",
       "      <td>2017-05-16 14:15:34</td>\n",
       "      <td>00:00:03</td>\n",
       "      <td>00:00:03</td>\n",
       "    </tr>\n",
       "    <tr>\n",
       "      <td>login699</td>\n",
       "      <td>195931178.0</td>\n",
       "      <td>1.0</td>\n",
       "      <td>2017-05-16 14:14:29</td>\n",
       "      <td>2017-05-16 14:14:32</td>\n",
       "      <td>00:00:03</td>\n",
       "      <td>00:00:03</td>\n",
       "    </tr>\n",
       "    <tr>\n",
       "      <td>login699</td>\n",
       "      <td>195930258.0</td>\n",
       "      <td>1.0</td>\n",
       "      <td>2017-05-16 14:14:42</td>\n",
       "      <td>2017-05-16 14:14:45</td>\n",
       "      <td>00:00:03</td>\n",
       "      <td>00:00:03</td>\n",
       "    </tr>\n",
       "    <tr>\n",
       "      <td>login699</td>\n",
       "      <td>195931574.0</td>\n",
       "      <td>1.0</td>\n",
       "      <td>2017-05-16 14:15:41</td>\n",
       "      <td>2017-05-16 14:15:45</td>\n",
       "      <td>00:00:04</td>\n",
       "      <td>00:00:04</td>\n",
       "    </tr>\n",
       "  </tbody>\n",
       "</table>\n",
       "</div>"
      ],
      "text/plain": [
       "                  tid  Microtasks          assigned_ts            closed_ts  \\\n",
       "login                                                                         \n",
       "login699  195930544.0         1.0  2017-05-16 14:14:37  2017-05-16 14:14:40   \n",
       "login699  195931108.0         1.0  2017-05-16 14:15:31  2017-05-16 14:15:34   \n",
       "login699  195931178.0         1.0  2017-05-16 14:14:29  2017-05-16 14:14:32   \n",
       "login699  195930258.0         1.0  2017-05-16 14:14:42  2017-05-16 14:14:45   \n",
       "login699  195931574.0         1.0  2017-05-16 14:15:41  2017-05-16 14:15:45   \n",
       "\n",
       "             time timeonetask  \n",
       "login                          \n",
       "login699 00:00:03    00:00:03  \n",
       "login699 00:00:03    00:00:03  \n",
       "login699 00:00:03    00:00:03  \n",
       "login699 00:00:03    00:00:03  \n",
       "login699 00:00:04    00:00:04  "
      ]
     },
     "execution_count": 141,
     "metadata": {},
     "output_type": "execute_result"
    }
   ],
   "source": [
    "dfclean.sort_values(by = ['time'], ascending=True).head(5)"
   ]
  },
  {
   "cell_type": "code",
   "execution_count": 187,
   "metadata": {},
   "outputs": [
    {
     "data": {
      "text/html": [
       "<div>\n",
       "<style scoped>\n",
       "    .dataframe tbody tr th:only-of-type {\n",
       "        vertical-align: middle;\n",
       "    }\n",
       "\n",
       "    .dataframe tbody tr th {\n",
       "        vertical-align: top;\n",
       "    }\n",
       "\n",
       "    .dataframe thead th {\n",
       "        text-align: right;\n",
       "    }\n",
       "</style>\n",
       "<table border=\"1\" class=\"dataframe\">\n",
       "  <thead>\n",
       "    <tr style=\"text-align: right;\">\n",
       "      <th></th>\n",
       "      <th>tid</th>\n",
       "      <th>Microtasks</th>\n",
       "      <th>assigned_ts</th>\n",
       "      <th>closed_ts</th>\n",
       "      <th>time</th>\n",
       "      <th>timeonetask</th>\n",
       "      <th>seconds</th>\n",
       "    </tr>\n",
       "    <tr>\n",
       "      <th>login</th>\n",
       "      <th></th>\n",
       "      <th></th>\n",
       "      <th></th>\n",
       "      <th></th>\n",
       "      <th></th>\n",
       "      <th></th>\n",
       "      <th></th>\n",
       "    </tr>\n",
       "  </thead>\n",
       "  <tbody>\n",
       "    <tr>\n",
       "      <td>login0</td>\n",
       "      <td>190563850.0</td>\n",
       "      <td>4.0</td>\n",
       "      <td>2017-04-20 12:09:39</td>\n",
       "      <td>2017-04-20 13:13:01</td>\n",
       "      <td>01:03:22</td>\n",
       "      <td>00:15:50.500000</td>\n",
       "      <td>950.50</td>\n",
       "    </tr>\n",
       "    <tr>\n",
       "      <td>login0</td>\n",
       "      <td>190561754.0</td>\n",
       "      <td>1.0</td>\n",
       "      <td>2017-04-20 12:10:30</td>\n",
       "      <td>2017-04-20 12:28:29</td>\n",
       "      <td>00:17:59</td>\n",
       "      <td>00:17:59</td>\n",
       "      <td>1079.00</td>\n",
       "    </tr>\n",
       "    <tr>\n",
       "      <td>login0</td>\n",
       "      <td>190565906.0</td>\n",
       "      <td>4.0</td>\n",
       "      <td>2017-04-20 12:21:31</td>\n",
       "      <td>2017-04-20 13:30:10</td>\n",
       "      <td>01:08:39</td>\n",
       "      <td>00:17:09.750000</td>\n",
       "      <td>1029.75</td>\n",
       "    </tr>\n",
       "    <tr>\n",
       "      <td>login0</td>\n",
       "      <td>190560246.0</td>\n",
       "      <td>1.0</td>\n",
       "      <td>2017-04-20 12:28:30</td>\n",
       "      <td>2017-04-20 13:13:56</td>\n",
       "      <td>00:45:26</td>\n",
       "      <td>00:45:26</td>\n",
       "      <td>2726.00</td>\n",
       "    </tr>\n",
       "    <tr>\n",
       "      <td>login0</td>\n",
       "      <td>190562168.0</td>\n",
       "      <td>2.0</td>\n",
       "      <td>2017-04-20 12:28:42</td>\n",
       "      <td>2017-04-20 13:14:50</td>\n",
       "      <td>00:46:08</td>\n",
       "      <td>00:23:04</td>\n",
       "      <td>1384.00</td>\n",
       "    </tr>\n",
       "  </tbody>\n",
       "</table>\n",
       "</div>"
      ],
      "text/plain": [
       "                tid  Microtasks          assigned_ts            closed_ts  \\\n",
       "login                                                                       \n",
       "login0  190563850.0         4.0  2017-04-20 12:09:39  2017-04-20 13:13:01   \n",
       "login0  190561754.0         1.0  2017-04-20 12:10:30  2017-04-20 12:28:29   \n",
       "login0  190565906.0         4.0  2017-04-20 12:21:31  2017-04-20 13:30:10   \n",
       "login0  190560246.0         1.0  2017-04-20 12:28:30  2017-04-20 13:13:56   \n",
       "login0  190562168.0         2.0  2017-04-20 12:28:42  2017-04-20 13:14:50   \n",
       "\n",
       "           time     timeonetask  seconds  \n",
       "login                                     \n",
       "login0 01:03:22 00:15:50.500000   950.50  \n",
       "login0 00:17:59        00:17:59  1079.00  \n",
       "login0 01:08:39 00:17:09.750000  1029.75  \n",
       "login0 00:45:26        00:45:26  2726.00  \n",
       "login0 00:46:08        00:23:04  1384.00  "
      ]
     },
     "execution_count": 187,
     "metadata": {},
     "output_type": "execute_result"
    }
   ],
   "source": [
    "# Создание и заполнение поля seconds, отражающего период выполнения задания в секундах\n",
    "# Данный пункт необходим для облегчения операций с данными в дальнейшем\n",
    "\n",
    "dfclean['seconds'] = dfclean['timeonetask'] / pd.to_timedelta('1s')\n",
    "dfclean.head(5)"
   ]
  },
  {
   "cell_type": "code",
   "execution_count": 144,
   "metadata": {},
   "outputs": [
    {
     "data": {
      "text/plain": [
       "<matplotlib.axes._subplots.AxesSubplot at 0x15de0080>"
      ]
     },
     "execution_count": 144,
     "metadata": {},
     "output_type": "execute_result"
    },
    {
     "data": {
      "image/png": "[encoded data removed]",
      "text/plain": [
       "<Figure size 1224x432 with 1 Axes>"
      ]
     },
     "metadata": {
      "needs_background": "light"
     },
     "output_type": "display_data"
    }
   ],
   "source": [
    "dfclean.timeonetask.plot(figsize = (17, 6))"
   ]
  },
  {
   "cell_type": "markdown",
   "metadata": {},
   "source": [
    "Проверка на происхождение данных о продолжительности выполнения одного микрозадания из нормальной выборки при момощи теста Шапиро-Вилка."
   ]
  },
  {
   "cell_type": "code",
   "execution_count": 323,
   "metadata": {},
   "outputs": [],
   "source": [
    "from scipy import stats"
   ]
  },
  {
   "cell_type": "markdown",
   "metadata": {},
   "source": [
    "The algorithm used is described in [4] but censoring parameters as described are not implemented. For N > 5000 the W test statistic is accurate but the p-value may not be.\n",
    "\n",
    "The chance of rejecting the null hypothesis when it is true is close to 5% regardless of sample size."
   ]
  },
  {
   "cell_type": "code",
   "execution_count": 326,
   "metadata": {},
   "outputs": [
    {
     "data": {
      "text/plain": [
       "(0.14735138416290283, 0.0)"
      ]
     },
     "execution_count": 326,
     "metadata": {},
     "output_type": "execute_result"
    }
   ],
   "source": [
    "stats.shapiro(dfclean['seconds'].sample(5000))"
   ]
  },
  {
   "cell_type": "markdown",
   "metadata": {},
   "source": [
    "Согласно полученным результатам, данные не исходят из нормального распеределения."
   ]
  },
  {
   "cell_type": "code",
   "execution_count": 327,
   "metadata": {},
   "outputs": [
    {
     "data": {
      "text/plain": [
       "75.0"
      ]
     },
     "execution_count": 327,
     "metadata": {},
     "output_type": "execute_result"
    }
   ],
   "source": [
    "dfclean.seconds.median()"
   ]
  },
  {
   "cell_type": "code",
   "execution_count": 328,
   "metadata": {},
   "outputs": [
    {
     "data": {
      "text/plain": [
       "533.7976673944205"
      ]
     },
     "execution_count": 328,
     "metadata": {},
     "output_type": "execute_result"
    }
   ],
   "source": [
    "dfclean.seconds.mean()"
   ]
  },
  {
   "cell_type": "markdown",
   "metadata": {},
   "source": [
    "Как видно из полученных данных среднее значение времени выполнения 1 микрозадания в 7 раз превосходит медианное. Исходя из этого, можно предположить неравноценность одинаковых временных промежутков при выполнении заданий с различным количеством микрозаданий.\n",
    "Чтобы подтвердить или же опровергнуть данное предположение сгруппируем данные по количеству микрозаданий в задании и построим график хода величины времени, затраченного на 1 микрозадание"
   ]
  },
  {
   "cell_type": "code",
   "execution_count": 258,
   "metadata": {},
   "outputs": [
    {
     "data": {
      "text/html": [
       "<div>\n",
       "<style scoped>\n",
       "    .dataframe tbody tr th:only-of-type {\n",
       "        vertical-align: middle;\n",
       "    }\n",
       "\n",
       "    .dataframe tbody tr th {\n",
       "        vertical-align: top;\n",
       "    }\n",
       "\n",
       "    .dataframe thead th {\n",
       "        text-align: right;\n",
       "    }\n",
       "</style>\n",
       "<table border=\"1\" class=\"dataframe\">\n",
       "  <thead>\n",
       "    <tr style=\"text-align: right;\">\n",
       "      <th></th>\n",
       "      <th>tid</th>\n",
       "      <th>seconds</th>\n",
       "    </tr>\n",
       "    <tr>\n",
       "      <th>Microtasks</th>\n",
       "      <th></th>\n",
       "      <th></th>\n",
       "    </tr>\n",
       "  </thead>\n",
       "  <tbody>\n",
       "    <tr>\n",
       "      <td>1.0</td>\n",
       "      <td>1.943870e+08</td>\n",
       "      <td>493.959199</td>\n",
       "    </tr>\n",
       "    <tr>\n",
       "      <td>2.0</td>\n",
       "      <td>1.914590e+08</td>\n",
       "      <td>502.204375</td>\n",
       "    </tr>\n",
       "    <tr>\n",
       "      <td>3.0</td>\n",
       "      <td>1.891566e+08</td>\n",
       "      <td>534.751867</td>\n",
       "    </tr>\n",
       "    <tr>\n",
       "      <td>4.0</td>\n",
       "      <td>1.853023e+08</td>\n",
       "      <td>561.313824</td>\n",
       "    </tr>\n",
       "    <tr>\n",
       "      <td>5.0</td>\n",
       "      <td>1.633238e+08</td>\n",
       "      <td>632.394280</td>\n",
       "    </tr>\n",
       "  </tbody>\n",
       "</table>\n",
       "</div>"
      ],
      "text/plain": [
       "                     tid     seconds\n",
       "Microtasks                          \n",
       "1.0         1.943870e+08  493.959199\n",
       "2.0         1.914590e+08  502.204375\n",
       "3.0         1.891566e+08  534.751867\n",
       "4.0         1.853023e+08  561.313824\n",
       "5.0         1.633238e+08  632.394280"
      ]
     },
     "execution_count": 258,
     "metadata": {},
     "output_type": "execute_result"
    }
   ],
   "source": [
    "task_temp = dfclean.groupby('Microtasks').mean()\n",
    "#task_temp_round = task_temp.seconds.round(0)\n",
    "task_temp.head()"
   ]
  },
  {
   "cell_type": "code",
   "execution_count": 235,
   "metadata": {},
   "outputs": [
    {
     "data": {
      "image/png": "[encoded data removed]",
      "text/plain": [
       "<Figure size 432x288 with 1 Axes>"
      ]
     },
     "metadata": {
      "needs_background": "light"
     },
     "output_type": "display_data"
    }
   ],
   "source": [
    "import matplotlib.pyplot as plt\n",
    "plt.plot(task_temp.seconds)\n",
    "plt.ylabel('some numbers')\n",
    "plt.show()"
   ]
  },
  {
   "cell_type": "markdown",
   "metadata": {},
   "source": [
    "Исходное предположение подтвердилось - с ростом количества микрозаданий, среднее время, затраченное на выполнение 1, снижается в \"примерно\" 4 раза на промежутке 10-40 микрозаданий.\n",
    "Это может быть связано с возратанием количества при использовании более \"мелкого\" дробления заданий, что, естественно, требует меньшего времени на выполнение. \n",
    "\n",
    "Также это может быть связано с тем, что при росте количества микрозаданий временные потери на приемку и сдачу задания асессором разбиваются на более мелкие части и не оказывают столь существенного влияния. Однако, данный пункт нельзя рассматривать как главный определяющий фактор в силу того, что максимум затрачиваемого времени наблюдается для заданий с 10 +-5 микрозаданий.\n",
    "\n",
    "Дльнейший путь получения корректного размера выплаты состоит в аппроксимации данного графика функцией."
   ]
  },
  {
   "cell_type": "code",
   "execution_count": 277,
   "metadata": {},
   "outputs": [],
   "source": [
    "y = task_temp['seconds'].to_numpy()\n",
    "x = task_temp.index.to_numpy()"
   ]
  },
  {
   "cell_type": "code",
   "execution_count": 278,
   "metadata": {},
   "outputs": [],
   "source": [
    "from matplotlib.pyplot import *\n",
    "%matplotlib inline"
   ]
  },
  {
   "cell_type": "code",
   "execution_count": 304,
   "metadata": {},
   "outputs": [
    {
     "name": "stdout",
     "output_type": "stream",
     "text": [
      "[-13.88839036 718.73882546]\n"
     ]
    }
   ],
   "source": [
    "# Рассчитаем полиномы первых 5 степеней\n",
    "p1 = np.polyfit(x, y, 1)\n",
    "p2 = np.polyfit(x, y, 2)\n",
    "p3 = np.polyfit(x, y, 3)\n",
    "p4 = np.polyfit(x, y, 4)\n",
    "p5 = np.polyfit(x, y, 5)\n",
    "print(p1)"
   ]
  },
  {
   "cell_type": "code",
   "execution_count": 286,
   "metadata": {},
   "outputs": [
    {
     "data": {
      "text/plain": [
       "[<matplotlib.lines.Line2D at 0x27b8acf8>]"
      ]
     },
     "execution_count": 286,
     "metadata": {},
     "output_type": "execute_result"
    },
    {
     "data": {
      "image/png": "[encoded data removed]",
      "text/plain": [
       "<Figure size 432x288 with 1 Axes>"
      ]
     },
     "metadata": {
      "needs_background": "light"
     },
     "output_type": "display_data"
    }
   ],
   "source": [
    "plot(x,y,'o')"
   ]
  },
  {
   "cell_type": "code",
   "execution_count": 298,
   "metadata": {},
   "outputs": [
    {
     "data": {
      "text/plain": [
       "[<matplotlib.lines.Line2D at 0x2b50aeb8>]"
      ]
     },
     "execution_count": 298,
     "metadata": {},
     "output_type": "execute_result"
    },
    {
     "data": {
      "image/png": "[encoded data removed]",
      "text/plain": [
       "<Figure size 432x288 with 1 Axes>"
      ]
     },
     "metadata": {
      "needs_background": "light"
     },
     "output_type": "display_data"
    }
   ],
   "source": [
    "# График полинома 1 степени\n",
    "plot(x,y,'o')\n",
    "plot(x, np.polyval (p1,x), 'r-')"
   ]
  },
  {
   "cell_type": "code",
   "execution_count": 289,
   "metadata": {},
   "outputs": [
    {
     "data": {
      "text/plain": [
       "[<matplotlib.lines.Line2D at 0x1eba8c88>]"
      ]
     },
     "execution_count": 289,
     "metadata": {},
     "output_type": "execute_result"
    },
    {
     "data": {
      "image/png": "[encoded data removed]",
      "text/plain": [
       "<Figure size 432x288 with 1 Axes>"
      ]
     },
     "metadata": {
      "needs_background": "light"
     },
     "output_type": "display_data"
    }
   ],
   "source": [
    "# График полинома 2 степени\n",
    "plot(x,y,'o')\n",
    "plot(x, np.polyval (p2,x), 'r-')"
   ]
  },
  {
   "cell_type": "code",
   "execution_count": 290,
   "metadata": {},
   "outputs": [
    {
     "data": {
      "text/plain": [
       "[<matplotlib.lines.Line2D at 0x1f464cc0>]"
      ]
     },
     "execution_count": 290,
     "metadata": {},
     "output_type": "execute_result"
    },
    {
     "data": {
      "image/png": "[encoded data removed]",
      "text/plain": [
       "<Figure size 432x288 with 1 Axes>"
      ]
     },
     "metadata": {
      "needs_background": "light"
     },
     "output_type": "display_data"
    }
   ],
   "source": [
    "# График полинома 3 степени\n",
    "plot(x,y,'o')\n",
    "plot(x, np.polyval (p3,x), 'r-')"
   ]
  },
  {
   "cell_type": "code",
   "execution_count": 302,
   "metadata": {},
   "outputs": [
    {
     "data": {
      "text/plain": [
       "[<matplotlib.lines.Line2D at 0x2b6307f0>]"
      ]
     },
     "execution_count": 302,
     "metadata": {},
     "output_type": "execute_result"
    },
    {
     "data": {
      "image/png": "[encoded data removed]",
      "text/plain": [
       "<Figure size 432x288 with 1 Axes>"
      ]
     },
     "metadata": {
      "needs_background": "light"
     },
     "output_type": "display_data"
    }
   ],
   "source": [
    "# График полинома 4 степени\n",
    "plot(x,y,'o')\n",
    "plot(x, np.polyval (p4,x), 'r-')"
   ]
  },
  {
   "cell_type": "code",
   "execution_count": 305,
   "metadata": {},
   "outputs": [
    {
     "data": {
      "text/plain": [
       "[<matplotlib.lines.Line2D at 0x2b6f0cc0>]"
      ]
     },
     "execution_count": 305,
     "metadata": {},
     "output_type": "execute_result"
    },
    {
     "data": {
      "image/png": "[encoded data removed]",
      "text/plain": [
       "<Figure size 432x288 with 1 Axes>"
      ]
     },
     "metadata": {
      "needs_background": "light"
     },
     "output_type": "display_data"
    }
   ],
   "source": [
    "# График полинома 5 степени\n",
    "plot(x,y,'o')\n",
    "plot(x, np.polyval (p5,x), 'r-')"
   ]
  },
  {
   "cell_type": "markdown",
   "metadata": {},
   "source": [
    "30 секунд - N рублей\n",
    "\n",
    "Анализируя полученные графики стоит отметить, что полином 5й степени, наиболее точно описывающий исходные данные, является оптимальным решением для данного набора данных."
   ]
  },
  {
   "cell_type": "code",
   "execution_count": 306,
   "metadata": {},
   "outputs": [
    {
     "name": "stdout",
     "output_type": "stream",
     "text": [
      "[ 1.68081275e-05 -2.68585077e-03  1.76065301e-01 -5.64372323e+00\n",
      "  6.60086315e+01  4.00771268e+02]\n"
     ]
    }
   ],
   "source": [
    "print(p5)"
   ]
  },
  {
   "cell_type": "markdown",
   "metadata": {},
   "source": [
    "Предполагемая конечная схема определения стоимости микрозадания:\n",
    "\n",
    "1. Получение количества микрозаданий - n\n",
    "2. Определение среднего времени выполнения одного микрозадания при помощи полинома 5й степени - x\n",
    "3. Получение стоимости 1 микрозадания из исходного соотношения\n",
    "\n",
    "Пример реализации"
   ]
  },
  {
   "cell_type": "code",
   "execution_count": 313,
   "metadata": {},
   "outputs": [],
   "source": [
    "def appraiser(n, N):\n",
    "\"\"\"\n",
    "n   number of tasks\n",
    "N   cost of asessors 30 seconds\n",
    "\n",
    "\"\"\"    \n",
    "    p = [ 1.68081275e-05, -2.68585077e-03, 1.76065301e-01, -5.64372323e+00,  6.60086315e+01,  4.00771268e+02]\n",
    "    \n",
    "    time = np.polyval(p, n) \n",
    "    \n",
    "    cost = (time * N)/30\n",
    "    \n",
    "    return cost"
   ]
  },
  {
   "cell_type": "code",
   "execution_count": 322,
   "metadata": {},
   "outputs": [
    {
     "name": "stdout",
     "output_type": "stream",
     "text": [
      "30\n",
      "[461.30957253 511.57972474 552.54394702 585.10403531 610.10337604\n",
      " 628.32896314 640.51341497 647.33699136 649.42961052 647.37286605\n",
      " 641.70204392 632.90813942 621.43987417 607.70571305 592.07588121\n",
      " 574.88438105 556.43100917 536.98337334 516.77890953 496.0268988\n",
      " 474.91048436 453.58868849 432.19842955 410.8565389  389.66177796\n",
      " 368.69685511 348.0304427  327.71919401 307.80976027 288.34080755\n",
      " 269.34503382 250.85118589 232.88607636 215.47660065 198.65175393\n",
      " 182.44464812 166.89452884 152.04879243 137.96500287 124.7129088\n",
      " 112.37646048 101.05582675  90.86941203  81.95587328  74.47613698\n",
      "  68.6154161   64.58522709  62.62540684  63.00612966  66.02992425]\n"
     ]
    },
    {
     "data": {
      "text/plain": [
       "[<matplotlib.lines.Line2D at 0x2b842780>]"
      ]
     },
     "execution_count": 322,
     "metadata": {},
     "output_type": "execute_result"
    },
    {
     "data": {
      "image/png": "[encoded data removed]",
      "text/plain": [
       "<Figure size 432x288 with 1 Axes>"
      ]
     },
     "metadata": {
      "needs_background": "light"
     },
     "output_type": "display_data"
    }
   ],
   "source": [
    "plot(x, appraiser(n = x, N = 30), 'r-')"
   ]
  },
  {
   "cell_type": "code",
   "execution_count": null,
   "metadata": {},
   "outputs": [],
   "source": []
  }
 ],
 "metadata": {
  "kernelspec": {
   "display_name": "Python 3",
   "language": "python",
   "name": "python3"
  },
  "language_info": {
   "codemirror_mode": {
    "name": "ipython",
    "version": 3
   },
   "file_extension": ".py",
   "mimetype": "text/x-python",
   "name": "python",
   "nbconvert_exporter": "python",
   "pygments_lexer": "ipython3",
   "version": "3.7.2"
  }
 },
 "nbformat": 4,
 "nbformat_minor": 2
}
